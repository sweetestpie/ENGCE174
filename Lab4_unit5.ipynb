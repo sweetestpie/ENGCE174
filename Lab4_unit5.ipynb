{
  "nbformat": 4,
  "nbformat_minor": 0,
  "metadata": {
    "colab": {
      "provenance": [],
      "authorship_tag": "ABX9TyM/CmsVeHh8SuWy0iujEtaC",
      "include_colab_link": true
    },
    "kernelspec": {
      "name": "python3",
      "display_name": "Python 3"
    },
    "language_info": {
      "name": "python"
    }
  },
  "cells": [
    {
      "cell_type": "markdown",
      "metadata": {
        "id": "view-in-github",
        "colab_type": "text"
      },
      "source": [
        "<a href=\"https://colab.research.google.com/github/sweetestpie/ENGCE174/blob/main/Lab4_unit5.ipynb\" target=\"_parent\"><img src=\"https://colab.research.google.com/assets/colab-badge.svg\" alt=\"Open In Colab\"/></a>"
      ]
    },
    {
      "cell_type": "code",
      "execution_count": null,
      "metadata": {
        "id": "q6Tvn0FwYNNy",
        "colab": {
          "base_uri": "https://localhost:8080/"
        },
        "outputId": "af3275a0-aba4-4bc0-910b-1717a6c2cf64"
      },
      "outputs": [
        {
          "output_type": "stream",
          "name": "stdout",
          "text": [
            "Updated list : [1, 2, 10, 5, 6]\n"
          ]
        }
      ],
      "source": [
        "number = [1,2,3,4,5]\n",
        "number.append(6)\n",
        "number[2] = 10\n",
        "number.remove(4)\n",
        "print(\"Updated list :\", number)"
      ]
    },
    {
      "cell_type": "code",
      "source": [
        "squares = [x ** 2 for x in range(1,6)]\n",
        "\n",
        "print(\"Squares:\", squares)"
      ],
      "metadata": {
        "colab": {
          "base_uri": "https://localhost:8080/"
        },
        "id": "X9FVyxVt9N2Z",
        "outputId": "bb948c62-4f40-41b5-cc3f-9582f3f94a01"
      },
      "execution_count": null,
      "outputs": [
        {
          "output_type": "stream",
          "name": "stdout",
          "text": [
            "Squares: [1, 4, 9, 16, 25]\n"
          ]
        }
      ]
    },
    {
      "cell_type": "code",
      "source": [
        "numbers = [5,2,8,1,3]\n",
        "numbers.sort()\n",
        "print(\"Sorted list :\",numbers)\n",
        "numbers.reverse()\n",
        "print(\"Reversed list :\",numbers)"
      ],
      "metadata": {
        "colab": {
          "base_uri": "https://localhost:8080/"
        },
        "id": "z3z7eEyS_Fof",
        "outputId": "f22c91ee-3652-48c1-b50b-bcad67fe7d0a"
      },
      "execution_count": null,
      "outputs": [
        {
          "output_type": "stream",
          "name": "stdout",
          "text": [
            "Sorted list : [1, 2, 3, 5, 8]\n",
            "Reversed list : [8, 5, 3, 2, 1]\n"
          ]
        }
      ]
    },
    {
      "cell_type": "code",
      "source": [
        "matrix =[\n",
        "    [1,2,3],\n",
        "    [4,5,6],\n",
        "    [7,8,9]\n",
        "]\n",
        "\n",
        "print(matrix[1][2])"
      ],
      "metadata": {
        "colab": {
          "base_uri": "https://localhost:8080/"
        },
        "id": "P5oO2V8tTOZw",
        "outputId": "ad24643b-88c7-4523-d4f4-00d3b34f7789"
      },
      "execution_count": null,
      "outputs": [
        {
          "output_type": "stream",
          "name": "stdout",
          "text": [
            "6\n"
          ]
        }
      ]
    },
    {
      "cell_type": "code",
      "source": [
        "stack = []\n",
        "stack.append(1)\n",
        "stack.append(2)\n",
        "stack.append(3)\n",
        "popped_item = stack.pop()\n",
        "print(\"Popped item from stack :\",popped_item)\n",
        "\n",
        "from collections import deque\n",
        "queue = deque([1,2,3])\n",
        "queue.append(4)\n",
        "dequeued_item = queue.popleft()\n",
        "print(\"Dequeued item from queue :\",dequeued_item)"
      ],
      "metadata": {
        "colab": {
          "base_uri": "https://localhost:8080/"
        },
        "id": "vKO37u3DTTd2",
        "outputId": "2c88f057-6bb1-4768-ebe7-765305db560e"
      },
      "execution_count": null,
      "outputs": [
        {
          "output_type": "stream",
          "name": "stdout",
          "text": [
            "Popped item from stack : 3\n",
            "Dequeued item from queue : 1\n"
          ]
        }
      ]
    },
    {
      "cell_type": "code",
      "source": [
        "Number_20 = [1,2,3,4,5,6,7,8]\n",
        "remove_num = 3\n",
        "\n",
        "while remove_num in Number_20:\n",
        "    Number_20.remove(remove_num)\n",
        "print(\"Number after remove :\",Number_20)\n",
        "print(\"Sum of remaining numbers:\",sum(Number_20))"
      ],
      "metadata": {
        "colab": {
          "base_uri": "https://localhost:8080/"
        },
        "id": "2QhLlVg1Tr_g",
        "outputId": "ab15dc13-c1f3-4ff3-9891-2a3107ef1a8d"
      },
      "execution_count": null,
      "outputs": [
        {
          "output_type": "stream",
          "name": "stdout",
          "text": [
            "Number after remove : [1, 2, 4, 5, 6, 7, 8]\n",
            "Sum of remaining numbers: 33\n"
          ]
        }
      ]
    }
  ]
}