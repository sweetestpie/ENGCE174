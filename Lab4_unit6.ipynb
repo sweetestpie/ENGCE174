{
  "nbformat": 4,
  "nbformat_minor": 0,
  "metadata": {
    "colab": {
      "provenance": [],
      "gpuType": "T4",
      "authorship_tag": "ABX9TyMfYZESUemBcliAuP+TBnFc",
      "include_colab_link": true
    },
    "kernelspec": {
      "name": "python3",
      "display_name": "Python 3"
    },
    "language_info": {
      "name": "python"
    },
    "accelerator": "GPU"
  },
  "cells": [
    {
      "cell_type": "markdown",
      "metadata": {
        "id": "view-in-github",
        "colab_type": "text"
      },
      "source": [
        "<a href=\"https://colab.research.google.com/github/sweetestpie/ENGCE174/blob/main/Lab4_unit6.ipynb\" target=\"_parent\"><img src=\"https://colab.research.google.com/assets/colab-badge.svg\" alt=\"Open In Colab\"/></a>"
      ]
    },
    {
      "cell_type": "code",
      "execution_count": 7,
      "metadata": {
        "id": "5oUN_uw4WJ34",
        "colab": {
          "base_uri": "https://localhost:8080/"
        },
        "outputId": "090339bf-6693-4afe-93b8-48748203aa23"
      },
      "outputs": [
        {
          "output_type": "stream",
          "name": "stdout",
          "text": [
            "{1, 2, 3, 4, 5, 6}\n",
            "{3, 4}\n",
            "{1, 2}\n",
            "{1, 2, 5, 6}\n"
          ]
        }
      ],
      "source": [
        "set1 = {1,2,3,4}\n",
        "set2 = {3,4,5,6}\n",
        "\n",
        "union_set = set1 | set2\n",
        "print(union_set)\n",
        "\n",
        "intersection_set = set1 & set2\n",
        "print(intersection_set)\n",
        "\n",
        "difference_set = set1 - set2\n",
        "print(difference_set)\n",
        "\n",
        "symatric_difference_set = set1 ^ set2\n",
        "print(symatric_difference_set)"
      ]
    },
    {
      "cell_type": "code",
      "source": [
        "even_numbers = {x for x in range(1, 11) if x % 2 == 0}\n",
        "print(even_numbers)\n"
      ],
      "metadata": {
        "colab": {
          "base_uri": "https://localhost:8080/"
        },
        "id": "aNsVGUKdVhSc",
        "outputId": "ef82ae84-339b-4034-a5c6-4f4571534e27"
      },
      "execution_count": 3,
      "outputs": [
        {
          "output_type": "stream",
          "name": "stdout",
          "text": [
            "{2, 4, 6, 8, 10}\n"
          ]
        }
      ]
    },
    {
      "cell_type": "code",
      "source": [
        "grades = {'Alice' : 85, 'Bob' : 92, 'Charlie' : 78, 'David' : 95}\n",
        "\n",
        "print(\"Bob's grade :\", grades['Bob'])\n",
        "\n",
        "grades['Eve'] = 90\n",
        "\n",
        "for student, grade in grades.items():\n",
        "    print(f\"{student}:{grade}\")\n",
        "\n",
        "print(\"Frake's grade :\", grades.get('Frake','Grade Not Found'))"
      ],
      "metadata": {
        "colab": {
          "base_uri": "https://localhost:8080/"
        },
        "id": "Daf9F8KXVsuR",
        "outputId": "109675bb-49dc-4dfb-d5b7-a32835d8744b"
      },
      "execution_count": 5,
      "outputs": [
        {
          "output_type": "stream",
          "name": "stdout",
          "text": [
            "Bob's grade : 92\n",
            "Alice:85\n",
            "Bob:92\n",
            "Charlie:78\n",
            "David:95\n",
            "Eve:90\n",
            "Frake's grade : Grade Not Found\n"
          ]
        }
      ]
    },
    {
      "cell_type": "code",
      "source": [
        "set1 = {1,2,3,4,5}\n",
        "set2 = {3,4,5,6,7}\n",
        "\n",
        "union_set = set1 | set2\n",
        "print(union_set)\n",
        "\n",
        "intersection_set = set1 & set2\n",
        "print(intersection_set)\n",
        "\n",
        "difference_set = set1 - set2\n",
        "print(difference_set)\n",
        "\n",
        "symatric_difference_set = set1 ^ set2\n",
        "print(symatric_difference_set)"
      ],
      "metadata": {
        "colab": {
          "base_uri": "https://localhost:8080/"
        },
        "id": "FzZWd2ayXoSk",
        "outputId": "a5df780a-4a05-43a5-e28c-de7c63ecbde8"
      },
      "execution_count": 8,
      "outputs": [
        {
          "output_type": "stream",
          "name": "stdout",
          "text": [
            "{1, 2, 3, 4, 5, 6, 7}\n",
            "{3, 4, 5}\n",
            "{1, 2}\n",
            "{1, 2, 6, 7}\n"
          ]
        }
      ]
    },
    {
      "cell_type": "code",
      "source": [
        "set1_3 = {1,2,3,4}\n",
        "set2_3 = {3,4,5,6}\n",
        "\n",
        "set1_3.add(5)\n",
        "\n",
        "set2_3.discard(6)\n",
        "\n",
        "print(\"Is set1 a subset of set2?\", set1_3.issubset(set2_3))\n",
        "print(\"Is set2 a superset of set1?\", set2_3.issubset(set1_3))"
      ],
      "metadata": {
        "colab": {
          "base_uri": "https://localhost:8080/"
        },
        "id": "Kh9QZ9-2X69O",
        "outputId": "2fa2be03-7796-4f25-8086-c3956e40fe27"
      },
      "execution_count": 16,
      "outputs": [
        {
          "output_type": "stream",
          "name": "stdout",
          "text": [
            "Is set1 a subset of set2? False\n",
            "Is set2 a superset of set1? True\n"
          ]
        }
      ]
    },
    {
      "cell_type": "code",
      "source": [
        "list1 = [1,2,3,4,5]\n",
        "list2 = [3,4,5,6,7]\n",
        "list3 = [5,6,7,8,9]\n",
        "\n",
        "unique_elements = set(list1).union(set(list2)).difference(set(list3))\n",
        "print(\"Unique elements:\", unique_elements)"
      ],
      "metadata": {
        "colab": {
          "base_uri": "https://localhost:8080/"
        },
        "id": "CWoS-djjZR7r",
        "outputId": "9a169a49-751d-4e24-acc5-646cc7cf5c8d"
      },
      "execution_count": 18,
      "outputs": [
        {
          "output_type": "stream",
          "name": "stdout",
          "text": [
            "Unique elements: {1, 2, 3, 4}\n"
          ]
        }
      ]
    },
    {
      "cell_type": "code",
      "source": [
        "score = {'Alice':[85,90,92], 'Bob':[88,87,85], 'Charlie':[90,91,89]}\n",
        "average_scores = {}\n",
        "\n",
        "for students, score_list in score.items():\n",
        "    average_scores[students] = sum(score_list) / len(score_list)\n",
        "\n",
        "print(\"Average scores:\", average_scores)"
      ],
      "metadata": {
        "colab": {
          "base_uri": "https://localhost:8080/"
        },
        "id": "ZoBieQ1ObWl1",
        "outputId": "839a8c41-c191-4cbe-e41f-e29648f552e3"
      },
      "execution_count": 19,
      "outputs": [
        {
          "output_type": "stream",
          "name": "stdout",
          "text": [
            "Average scores: {'Alice': 89.0, 'Bob': 86.66666666666667, 'Charlie': 90.0}\n"
          ]
        }
      ]
    }
  ]
}