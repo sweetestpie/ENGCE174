{
  "nbformat": 4,
  "nbformat_minor": 0,
  "metadata": {
    "colab": {
      "provenance": [],
      "gpuType": "T4",
      "authorship_tag": "ABX9TyOTZfISspMMQDky3R7sNlhT",
      "include_colab_link": true
    },
    "kernelspec": {
      "name": "python3",
      "display_name": "Python 3"
    },
    "language_info": {
      "name": "python"
    },
    "accelerator": "GPU"
  },
  "cells": [
    {
      "cell_type": "markdown",
      "metadata": {
        "id": "view-in-github",
        "colab_type": "text"
      },
      "source": [
        "<a href=\"https://colab.research.google.com/github/sweetestpie/ENGCE174/blob/main/work1_oop.ipynb\" target=\"_parent\"><img src=\"https://colab.research.google.com/assets/colab-badge.svg\" alt=\"Open In Colab\"/></a>"
      ]
    },
    {
      "cell_type": "code",
      "execution_count": null,
      "metadata": {
        "colab": {
          "base_uri": "https://localhost:8080/"
        },
        "id": "RIxtDjvPnBtX",
        "outputId": "236fc138-de85-4144-f1c4-d2295f53c850"
      },
      "outputs": [
        {
          "output_type": "stream",
          "name": "stdout",
          "text": [
            "[0, 1, 4, 9, 16, 25, 36, 49, 64, 81]\n",
            "{0: 0, 1: 1, 2: 4, 3: 9, 4: 16}\n",
            "{0, 64, 4, 36, 16}\n"
          ]
        }
      ],
      "source": [
        "squares = [x** 2 for x in range(10)]\n",
        "\n",
        "square_dict = {x: x ** 2 for x in range(5)}\n",
        "\n",
        "even_squares = {x ** 2 for x in range(10) if x % 2 == 0}\n",
        "\n",
        "print(squares)\n",
        "print(square_dict)\n",
        "print(even_squares)"
      ]
    },
    {
      "cell_type": "code",
      "source": [
        "squares = lambda x : x** 2\n",
        "print(squares(5))"
      ],
      "metadata": {
        "colab": {
          "base_uri": "https://localhost:8080/"
        },
        "id": "HF-cfsT8t-uO",
        "outputId": "172e7c2c-2a82-4e6c-d92d-0ecd416c702e"
      },
      "execution_count": null,
      "outputs": [
        {
          "output_type": "stream",
          "name": "stdout",
          "text": [
            "25\n"
          ]
        }
      ]
    },
    {
      "cell_type": "code",
      "source": [
        "def fibonacci():\n",
        "    a, b = 0, 1\n",
        "    while True:\n",
        "        yield a\n",
        "        a, b = b, a+b\n",
        "\n",
        "fib = fibonacci()\n",
        "print(next(fib))\n",
        "print(next(fib))"
      ],
      "metadata": {
        "colab": {
          "base_uri": "https://localhost:8080/"
        },
        "id": "HK0bZD6wvPdW",
        "outputId": "ec185b16-a1c7-4891-fab9-14e4055528dd"
      },
      "execution_count": null,
      "outputs": [
        {
          "output_type": "stream",
          "name": "stdout",
          "text": [
            "0\n",
            "1\n"
          ]
        }
      ]
    },
    {
      "cell_type": "code",
      "source": [
        "numbers = [1, 2, 3, 4, 5]\n",
        "\n",
        "print(\"First Elements : \" , numbers[0])\n",
        "print(\"Last Elements : \" , numbers[-1])\n",
        "\n",
        "print(\"Sliced Elements : \" , numbers[2:4])\n",
        "\n",
        "numbers.append(6)\n",
        "print(\"After append : \" , numbers)\n",
        "\n",
        "numbers.remove(3)\n",
        "print(\"After removal : \" , numbers)"
      ],
      "metadata": {
        "colab": {
          "base_uri": "https://localhost:8080/"
        },
        "id": "xBV9eNsPw75U",
        "outputId": "d6f23df5-e0ad-4d2d-de0d-d1a28f1b65b9"
      },
      "execution_count": null,
      "outputs": [
        {
          "output_type": "stream",
          "name": "stdout",
          "text": [
            "First Elements :  1\n",
            "Last Elements :  5\n",
            "Sliced Elements :  [3, 4]\n",
            "After append :  [1, 2, 3, 4, 5, 6]\n",
            "After removal :  [1, 2, 4, 5, 6]\n"
          ]
        }
      ]
    },
    {
      "cell_type": "code",
      "source": [
        "even_numbers = [x for x in range(10) if x % 2 == 0]\n",
        "squares = [num**2 for num in even_numbers]\n",
        "\n",
        "print(\"Squares of even number : \" , squares)"
      ],
      "metadata": {
        "colab": {
          "base_uri": "https://localhost:8080/"
        },
        "id": "w2BkPChXyFqD",
        "outputId": "4d459516-20a9-4aee-f3aa-a40b7af0144a"
      },
      "execution_count": null,
      "outputs": [
        {
          "output_type": "stream",
          "name": "stdout",
          "text": [
            "Squares of even number :  [0, 4, 16, 36, 64]\n"
          ]
        }
      ]
    },
    {
      "cell_type": "code",
      "source": [
        "names = ['Alice', 'Bob', 'Charlie']\n",
        "ages = [25, 30, 35]\n",
        "city = ['New York', 'London', 'Paris']\n",
        "\n",
        "for name, age, city in zip(names, ages, city):\n",
        "    print(f\" {name} is  {age} years old and lives in  {city}\")\n",
        "\n"
      ],
      "metadata": {
        "colab": {
          "base_uri": "https://localhost:8080/"
        },
        "id": "Ha22l9mLyvLS",
        "outputId": "808f8470-7686-46ee-f329-6224473a107a"
      },
      "execution_count": null,
      "outputs": [
        {
          "output_type": "stream",
          "name": "stdout",
          "text": [
            " Alice is  25 years old and lives in  New York\n",
            " Bob is  30 years old and lives in  London\n",
            " Charlie is  35 years old and lives in  Paris\n"
          ]
        }
      ]
    },
    {
      "cell_type": "code",
      "source": [
        "coordinates = ( 3 , 5 )\n",
        "\n",
        "x, y = coordinates\n",
        "print(\"x-coordinate : \", x)\n",
        "print(\"y-coordinate : \", y)\n",
        "\n",
        "location = {(3,5): \"Home\" , (10, 20) : \"Office\"}\n",
        "print(\"Location at (3,5) : \", location[(3,5)])\n",
        "print(\"Location at (10,20) : \", location[(10,20)])"
      ],
      "metadata": {
        "colab": {
          "base_uri": "https://localhost:8080/"
        },
        "id": "dKLcQA1BzSka",
        "outputId": "21999fa0-9504-4cda-ed45-a85da177a487"
      },
      "execution_count": null,
      "outputs": [
        {
          "output_type": "stream",
          "name": "stdout",
          "text": [
            "x-coordinate :  3\n",
            "y-coordinate :  5\n",
            "Location at (3,5) :  Home\n",
            "Location at (10,20) :  Office\n"
          ]
        }
      ]
    },
    {
      "cell_type": "code",
      "source": [
        "from collections import namedtuple\n",
        "\n",
        "Point = namedtuple('Point', ['x','y'])\n",
        "\n",
        "p1 = Point(3, 5)\n",
        "p2 = Point(-1, 2)\n",
        "\n",
        "print(\"Coordinates of  p1 : \",p1.x, p1. y)\n",
        "print(\"Coordinates of  p2 : \",p2.x, p2. y)\n"
      ],
      "metadata": {
        "colab": {
          "base_uri": "https://localhost:8080/"
        },
        "id": "Yhpuvja405bi",
        "outputId": "0d9e11da-2588-4667-c3d8-f92b21e7e9e5"
      },
      "execution_count": null,
      "outputs": [
        {
          "output_type": "stream",
          "name": "stdout",
          "text": [
            "Coordinates of  p1 :  3 5\n",
            "Coordinates of  p2 :  -1 2\n"
          ]
        }
      ]
    },
    {
      "cell_type": "code",
      "source": [
        "coordinated = (3, 5)"
      ],
      "metadata": {
        "id": "0R7vqT4r1y-8"
      },
      "execution_count": null,
      "outputs": []
    },
    {
      "cell_type": "code",
      "source": [
        "person = {'name': 'Alice', 'age': 30, 'city': 'New York'}\n",
        "\n",
        "print(\"Name : \", person ['name'])\n",
        "\n",
        "person['age'] = 31\n",
        "print(\"Updated age : \", person ['age'])\n",
        "\n",
        "for key, value in person.items():\n",
        "    print(f\"{key} : {value}\")\n"
      ],
      "metadata": {
        "colab": {
          "base_uri": "https://localhost:8080/"
        },
        "id": "yjXrtodn2ofV",
        "outputId": "3112e509-0661-4cc1-a869-29d1590a4c6e"
      },
      "execution_count": null,
      "outputs": [
        {
          "output_type": "stream",
          "name": "stdout",
          "text": [
            "Name :  Alice\n",
            "Updated age :  31\n",
            "name : Alice\n",
            "age : 31\n",
            "city : New York\n"
          ]
        }
      ]
    },
    {
      "cell_type": "code",
      "source": [
        "numbers = [1, 2, 3, 4, 5]\n",
        "\n",
        "square_dict = {num: num**2 for num in numbers}\n",
        "print(\"Dictionary of squares : \", square_dict)"
      ],
      "metadata": {
        "colab": {
          "base_uri": "https://localhost:8080/"
        },
        "id": "q0RVxLuL34M4",
        "outputId": "4051d3d4-879c-45cd-d928-adf5dfaab461"
      },
      "execution_count": null,
      "outputs": [
        {
          "output_type": "stream",
          "name": "stdout",
          "text": [
            "Dictionary of squares :  {1: 1, 2: 4, 3: 9, 4: 16, 5: 25}\n"
          ]
        }
      ]
    },
    {
      "cell_type": "code",
      "source": [
        "person = {'name': 'Alice', 'age': 30 }\n",
        "\n",
        "city = person.get('city', 'Unknown')\n",
        "print(\"City : \", city)"
      ],
      "metadata": {
        "colab": {
          "base_uri": "https://localhost:8080/"
        },
        "id": "NeHrM0Tp4Pkt",
        "outputId": "8d081e95-8c6d-4683-cf64-ff5554641132"
      },
      "execution_count": null,
      "outputs": [
        {
          "output_type": "stream",
          "name": "stdout",
          "text": [
            "City :  Unknown\n"
          ]
        }
      ]
    },
    {
      "cell_type": "code",
      "source": [
        "cities = {\n",
        "        'New York': [32,25,30,28,35],\n",
        "        'London': [75,68,72,70,80],\n",
        "        'Paris': [20,18,22,25,15]\n",
        "        }\n",
        "\n",
        "averages = {city: sum(temps)/len(temps) for city, temps in cities.items()}\n",
        "print(\"Averages temperatures : \", averages)"
      ],
      "metadata": {
        "colab": {
          "base_uri": "https://localhost:8080/"
        },
        "id": "lv56Ai_L44zl",
        "outputId": "9c06bb65-236f-4c1b-8b20-70d79b9c7e4e"
      },
      "execution_count": null,
      "outputs": [
        {
          "output_type": "stream",
          "name": "stdout",
          "text": [
            "Averages temperatures :  {'New York': 30.0, 'London': 73.0, 'Paris': 20.0}\n"
          ]
        }
      ]
    },
    {
      "cell_type": "code",
      "source": [
        "length = 5\n",
        "width = 3\n",
        "area = length * width\n",
        "print(\"Area of the rectangle : \", area)"
      ],
      "metadata": {
        "colab": {
          "base_uri": "https://localhost:8080/"
        },
        "id": "bT2y75HM54Gz",
        "outputId": "b903d467-d105-41ed-ca99-2d726c48bda6"
      },
      "execution_count": null,
      "outputs": [
        {
          "output_type": "stream",
          "name": "stdout",
          "text": [
            "Area of the rectangle :  15\n"
          ]
        }
      ]
    }
  ]
}