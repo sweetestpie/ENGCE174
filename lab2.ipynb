{
  "nbformat": 4,
  "nbformat_minor": 0,
  "metadata": {
    "colab": {
      "provenance": [],
      "gpuType": "T4",
      "authorship_tag": "ABX9TyM85W82xuaXuud7AIrf5GwF",
      "include_colab_link": true
    },
    "kernelspec": {
      "name": "python3",
      "display_name": "Python 3"
    },
    "language_info": {
      "name": "python"
    },
    "accelerator": "GPU"
  },
  "cells": [
    {
      "cell_type": "markdown",
      "metadata": {
        "id": "view-in-github",
        "colab_type": "text"
      },
      "source": [
        "<a href=\"https://colab.research.google.com/github/sweetestpie/ENGCE174/blob/main/lab2.ipynb\" target=\"_parent\"><img src=\"https://colab.research.google.com/assets/colab-badge.svg\" alt=\"Open In Colab\"/></a>"
      ]
    },
    {
      "cell_type": "code",
      "execution_count": 1,
      "metadata": {
        "colab": {
          "base_uri": "https://localhost:8080/"
        },
        "id": "kOkeMgYAWRws",
        "outputId": "eff126d4-2555-4cbf-e4d6-9335b8cf744d"
      },
      "outputs": [
        {
          "output_type": "stream",
          "name": "stdout",
          "text": [
            "type case_num(use loop): 1\n",
            "Small To Large\n",
            "Enter the number of rows: 10\n",
            "* \n",
            "* * \n",
            "* * * \n",
            "* * * * \n",
            "* * * * * \n",
            "* * * * * * \n",
            "* * * * * * * \n",
            "* * * * * * * * \n",
            "* * * * * * * * * \n",
            "* * * * * * * * * * \n"
          ]
        }
      ],
      "source": [
        "#use loop\n",
        "def print_asterisks(rows):\n",
        "     for i in range(1, rows+ 1):\n",
        "         print('* '*i)\n",
        "\n",
        "def print_asterisks_1(rows):\n",
        "    for i in range(rows, 0, -1):\n",
        "        print('* ' * i)\n",
        "\n",
        "def print_asterisks_2(rows):\n",
        "    for i in range(1, rows + 1):\n",
        "         print('  ' * (i - 1) + ' *  ' * (rows - i + 1))\n",
        "\n",
        "def print_asterisks_3(rows):\n",
        "     for i in range(1, rows+ 1):\n",
        "         print('  '*((rows-1) - i + 1)+' *  '*i)\n",
        "\n",
        "def print_asterisks_4(rows):\n",
        "     for i in range(1, rows+ 1):\n",
        "         print('  '*((rows-1) - i + 1)+'* '*i)\n",
        "\n",
        "case_num = input(\"type case_num(use loop): \")\n",
        "if case_num == \"1\":\n",
        "    print('Small To Large')\n",
        "    rows = int(input(\"Enter the number of rows: \"))\n",
        "    if rows < 0:\n",
        "     raise ValueError(\"Please enter a non-negative integer.\")\n",
        "    print_asterisks(rows)\n",
        "elif case_num == \"2\":\n",
        "     print('Large To Small')\n",
        "     rows = int(input(\"Enter the number of rows: \"))\n",
        "     if rows < 0:\n",
        "       raise ValueError(\"Please enter a non-negative integer.\")\n",
        "     print_asterisks_1(rows)\n",
        "elif case_num == \"3\":\n",
        "    print('Large To Small, Pyramid')\n",
        "    rows = int(input(\"Enter the number of rows: \"))\n",
        "    if rows < 0:\n",
        "      raise ValueError(\"Please enter a non-negative integer.\")\n",
        "    print_asterisks_2(rows)\n",
        "elif case_num == \"4\":\n",
        "     print('Small To Large, Pyramid')\n",
        "     rows = int(input(\"Enter the number of rows: \"))\n",
        "     if rows < 0:\n",
        "        raise ValueError(\"Please enter a non-negative integer.\")\n",
        "     print_asterisks_3(rows)\n",
        "elif case_num == \"5\":\n",
        "    print('Keep Right')\n",
        "    rows = int(input(\"Enter the number of rows: \"))\n",
        "    if rows < 0:\n",
        "      raise ValueError(\"Please enter a non-negative integer.\")\n",
        "    print_asterisks_4(rows)\n",
        "else:\n",
        "    print(\"Please type only number (1-5)\")"
      ]
    },
    {
      "cell_type": "code",
      "source": [
        "#don't use loop\n",
        "#star1\n",
        "def print_asterisks_recursive(rows, i=1):\n",
        "    if i > rows:\n",
        "        return\n",
        "    print('* ' * i)\n",
        "    print_asterisks_recursive(rows, i + 1)\n",
        "#star2 _Recursive_1\n",
        "def print_asterisks_Recursive_1(rows, i=1):\n",
        "    if i > rows:\n",
        "        return\n",
        "    print('* ' * ((rows) - i + 1))\n",
        "    print_asterisks_Recursive_1(rows, i + 1)\n",
        "#star3\n",
        "def print_asterisks_Recursive_2(rows, i=1):\n",
        "    if i <= rows:\n",
        "        print('  ' * (i - 1) + '  * ' * (rows - i + 1))\n",
        "        print_asterisks_Recursive_2(rows, i + 1)\n",
        "#star4\n",
        "def print_asterisks_Recursive_3(rows,i = 1):\n",
        "    if i <= rows:\n",
        "        print('  ' * ((rows - 1) - i + 1) + ' *  ' * i)\n",
        "        print_asterisks_Recursive_3(rows, i + 1)\n",
        "\n",
        "#star5\n",
        "def print_asterisks_Recursive_4(rows, i=1):\n",
        "    if i <= rows:\n",
        "        print('  ' * ((rows - 1) - i + 1) + '* ' * i)\n",
        "        print_asterisks_Recursive_4(rows, i + 1)\n",
        "\n",
        "case_num = input(\"type case_num(don't use loop): \")\n",
        "if case_num == \"1\":\n",
        "    print('Small To Large')\n",
        "    rows = int(input(\"Enter the number of rows: \"))\n",
        "    if rows < 0:\n",
        "     raise ValueError(\"Please enter a non-negative integer.\")\n",
        "    print_asterisks_recursive(rows)\n",
        "\n",
        "elif case_num == \"2\":\n",
        "     print('Large To Small')\n",
        "     rows = int(input(\"Enter the number of rows: \"))\n",
        "     if rows < 0:\n",
        "       raise ValueError(\"Please enter a non-negative integer.\")\n",
        "     print_asterisks_Recursive_1(rows)\n",
        "\n",
        "elif case_num == \"3\":\n",
        "    print('Large To Small, Pyramid')\n",
        "    rows = int(input(\"Enter the number of rows: \"))\n",
        "    if rows < 0:\n",
        "      raise ValueError(\"Please enter a non-negative integer.\")\n",
        "    print_asterisks_Recursive_2(rows)\n",
        "\n",
        "elif case_num == \"4\":\n",
        "     print('Small To Large, Pyramid')\n",
        "     rows = int(input(\"Enter the number of rows: \"))\n",
        "     if rows < 0:\n",
        "       raise ValueError(\"Please enter a non-negative integer.\")\n",
        "     print_asterisks_Recursive_3(rows)\n",
        "\n",
        "elif case_num == \"5\":\n",
        "    print('Keep Right')\n",
        "    # Taking input from the user\n",
        "    rows = int(input(\"Enter the number of rows: \"))\n",
        "    if rows < 0:\n",
        "     raise ValueError(\"Please enter a non-negative integer.\")\n",
        "    print_asterisks_Recursive_4(rows)\n",
        "else:\n",
        "    print(\"Please type only number (1-5)\")"
      ],
      "metadata": {
        "colab": {
          "base_uri": "https://localhost:8080/"
        },
        "id": "OeTa74fwWhYN",
        "outputId": "0053d2c2-b0b0-4732-eb82-55c2a8ad120f"
      },
      "execution_count": 2,
      "outputs": [
        {
          "output_type": "stream",
          "name": "stdout",
          "text": [
            "type case_num(don't use loop): 2\n",
            "Large To Small\n",
            "Enter the number of rows: 10\n",
            "* * * * * * * * * * \n",
            "* * * * * * * * * \n",
            "* * * * * * * * \n",
            "* * * * * * * \n",
            "* * * * * * \n",
            "* * * * * \n",
            "* * * * \n",
            "* * * \n",
            "* * \n",
            "* \n"
          ]
        }
      ]
    }
  ]
}